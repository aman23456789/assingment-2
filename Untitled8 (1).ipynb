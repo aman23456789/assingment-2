{
 "cells": [
  {
   "cell_type": "code",
   "execution_count": 9,
   "id": "7f7735e6",
   "metadata": {},
   "outputs": [
    {
     "name": "stdout",
     "output_type": "stream",
     "text": [
      "enter any marks89\n"
     ]
    }
   ],
   "source": [
    "marks = int(input(\"enter any marks\"))"
   ]
  },
  {
   "cell_type": "code",
   "execution_count": 10,
   "id": "180f8f0d",
   "metadata": {},
   "outputs": [
    {
     "name": "stdout",
     "output_type": "stream",
     "text": [
      "B\n"
     ]
    }
   ],
   "source": [
    "if marks>=90:\n",
    "        print(\"A\")\n",
    "elif marks>=80:\n",
    "        print(\"B\")\n",
    "elif marks>=70:\n",
    "        print(\"C\")\n",
    "elif marks>=60:\n",
    "         print(\"D\")\n",
    "else:\n",
    "    print(\"F\")\n",
    "    "
   ]
  },
  {
   "cell_type": "code",
   "execution_count": 15,
   "id": "b9859618",
   "metadata": {},
   "outputs": [
    {
     "name": "stdout",
     "output_type": "stream",
     "text": [
      "enter any number4444\n"
     ]
    }
   ],
   "source": [
    "number =int(input(\"enter any number\"))"
   ]
  },
  {
   "cell_type": "code",
   "execution_count": 17,
   "id": "f1fa864b",
   "metadata": {},
   "outputs": [
    {
     "name": "stdout",
     "output_type": "stream",
     "text": [
      "even\n"
     ]
    }
   ],
   "source": [
    "if number%2==0:\n",
    "    print(\"even\")\n",
    "else:\n",
    "    print(\"odd\")\n",
    "    "
   ]
  },
  {
   "cell_type": "markdown",
   "id": "8031cdb3",
   "metadata": {},
   "source": []
  },
  {
   "cell_type": "raw",
   "id": "3b342060",
   "metadata": {},
   "source": []
  },
  {
   "cell_type": "code",
   "execution_count": 31,
   "id": "6ad31268",
   "metadata": {},
   "outputs": [
    {
     "name": "stdout",
     "output_type": "stream",
     "text": [
      "enter eny number 1000000000\n"
     ]
    }
   ],
   "source": [
    "number = int(input(\"enter eny number \"))\n",
    "\n"
   ]
  },
  {
   "cell_type": "code",
   "execution_count": 32,
   "id": "e579af64",
   "metadata": {
    "scrolled": true
   },
   "outputs": [
    {
     "name": "stdout",
     "output_type": "stream",
     "text": [
      "it is zero\n"
     ]
    }
   ],
   "source": [
    "if number>=1:\n",
    "    print(\"it is zero\")\n",
    "elif number==0:\n",
    "    print(\"it is positive\")\n",
    "else:\n",
    "    print(\"it is negative\")"
   ]
  },
  {
   "cell_type": "code",
   "execution_count": null,
   "id": "9d9c5a2c",
   "metadata": {},
   "outputs": [],
   "source": [
    "length = int(input(\"enter any length\"))"
   ]
  },
  {
   "cell_type": "code",
   "execution_count": null,
   "id": "18abaf16",
   "metadata": {},
   "outputs": [],
   "source": []
  }
 ],
 "metadata": {
  "kernelspec": {
   "display_name": "Python 3 (ipykernel)",
   "language": "python",
   "name": "python3"
  },
  "language_info": {
   "codemirror_mode": {
    "name": "ipython",
    "version": 3
   },
   "file_extension": ".py",
   "mimetype": "text/x-python",
   "name": "python",
   "nbconvert_exporter": "python",
   "pygments_lexer": "ipython3",
   "version": "3.11.5"
  }
 },
 "nbformat": 4,
 "nbformat_minor": 5
}
